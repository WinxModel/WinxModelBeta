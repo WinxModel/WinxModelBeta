{
 "cells": [
  {
   "cell_type": "markdown",
   "id": "ruled-convertible",
   "metadata": {},
   "source": [
    "Tutorial 2: Integers and Floating Points\n",
    "\n",
    "The previous tutorial was focused exclusively on strings. In this tutorial, we’ll take a look at two different variable types: int (short for integer) and float (short for floating-point decimal)...negative whole numbers (numbers without decimal points)."
   ]
  },
  {
   "cell_type": "code",
   "execution_count": 1,
   "id": "congressional-eligibility",
   "metadata": {},
   "outputs": [
    {
     "name": "stdout",
     "output_type": "stream",
     "text": [
      "HR: 2\n",
      "type(HR) <class 'int'>\n"
     ]
    }
   ],
   "source": [
    "HR = 2\n",
    "print ('HR:',HR)\n",
    "print ('type(HR)', type(HR))"
   ]
  },
  {
   "cell_type": "markdown",
   "id": "documentary-order",
   "metadata": {},
   "source": [
    "The first line defines the variable HR (Home Runs) as 2. The print statement on the second line outputs HR, and the third line has a print statement with a type function. The type function will tell us the class or type of the variable. In the output window, we have HR (2), and below it, the type of HR, which is int. "
   ]
  },
  {
   "cell_type": "code",
   "execution_count": 2,
   "id": "practical-simulation",
   "metadata": {},
   "outputs": [
    {
     "name": "stdout",
     "output_type": "stream",
     "text": [
      "team_hits: 7\n"
     ]
    }
   ],
   "source": [
    "singles = 5\n",
    "HR = 2\n",
    "team_hits = singles + HR\n",
    "print ('team_hits:',team_hits)"
   ]
  },
  {
   "cell_type": "markdown",
   "id": "variable-rehabilitation",
   "metadata": {},
   "source": [
    "Added to HR (2) is the variable singles (5), which is also an int. The third line of code has the formula for team_hits. The print statement shows that team_hits equals 7. See if you can add the variables doubles (value=2) and triples (value=1) to the formula and make team_hits equal 10. "
   ]
  },
  {
   "cell_type": "code",
   "execution_count": 3,
   "id": "incomplete-cable",
   "metadata": {},
   "outputs": [
    {
     "name": "stdout",
     "output_type": "stream",
     "text": [
      "team_hits: 10\n"
     ]
    }
   ],
   "source": [
    "singles = 5\n",
    "doubles = 2\n",
    "triples = 1\n",
    "HR = 2\n",
    "team_hits = singles + doubles + triples + HR\n",
    "print ('team_hits:',team_hits)"
   ]
  },
  {
   "cell_type": "markdown",
   "id": "raised-kelly",
   "metadata": {},
   "source": [
    "You might be tempted to name your variables “2B” and “3B”, but if you recall from Tutorial 1, variable names cannot begin with a number. Below is another formula with integers, this time getting the At Bats (AB) from Plate Appearances (PA).  "
   ]
  },
  {
   "cell_type": "code",
   "execution_count": 4,
   "id": "liquid-knife",
   "metadata": {},
   "outputs": [
    {
     "name": "stdout",
     "output_type": "stream",
     "text": [
      "AB: 92\n"
     ]
    }
   ],
   "source": [
    "PA = 100\n",
    "BB = 6\n",
    "HBP = 1\n",
    "sac_fly = 1\n",
    "AB = PA - (BB + HBP + sac_fly)\n",
    "print ('AB:', AB)"
   ]
  },
  {
   "cell_type": "markdown",
   "id": "sophisticated-roots",
   "metadata": {},
   "source": [
    "Next, we’ll take a look at some variables that represent floating-point numbers. Instead of type int, they will be of type float."
   ]
  },
  {
   "cell_type": "code",
   "execution_count": 5,
   "id": "democratic-volleyball",
   "metadata": {},
   "outputs": [
    {
     "name": "stdout",
     "output_type": "stream",
     "text": [
      "BA: 0.301\n",
      "type(BA) <class 'float'>\n"
     ]
    }
   ],
   "source": [
    "BA = 0.301\n",
    "print ('BA:',BA)\n",
    "print ('type(BA)', type(BA))"
   ]
  },
  {
   "cell_type": "markdown",
   "id": "atomic-proceeding",
   "metadata": {},
   "source": [
    "The first line sets variable BA (Batting Average) to 0.301. The print statement shows us that BA is equal to 0.301, which includes both a zero and a decimal point. The zero followed by a decimal point is a clue that BA might be a float, and the type function confirms BA is indeed <class 'float'>."
   ]
  },
  {
   "cell_type": "code",
   "execution_count": 6,
   "id": "institutional-pennsylvania",
   "metadata": {},
   "outputs": [
    {
     "name": "stdout",
     "output_type": "stream",
     "text": [
      "OPS: 0.902\n"
     ]
    }
   ],
   "source": [
    "OBP = 0.353\n",
    "SLG = 0.549\n",
    "OPS = OBP + SLG\n",
    "print ('OPS:',OPS)"
   ]
  },
  {
   "cell_type": "markdown",
   "id": "seeing-lancaster",
   "metadata": {},
   "source": [
    "The first two lines of code establish OBP (On-Base Percentage) and SLG (Slugging Percentage). Both variables are floats. The formula OPS is the sum of OBP and SLG. Next, we’ll take a look at a formula that combines a float with an int. "
   ]
  },
  {
   "cell_type": "code",
   "execution_count": 7,
   "id": "productive-collapse",
   "metadata": {},
   "outputs": [
    {
     "name": "stdout",
     "output_type": "stream",
     "text": [
      "slg_pct: 0.5024875621890548\n"
     ]
    }
   ],
   "source": [
    "TB = 101\n",
    "AB = 201.0\n",
    "slg_pct = TB/AB\n",
    "print ('slg_pct:',slg_pct)"
   ]
  },
  {
   "cell_type": "markdown",
   "id": "hollow-samoa",
   "metadata": {},
   "source": [
    "The variables TB (Total Bases) is an int at 101, and AB (At-Bats) is a float at 201.0. The third line is a formula that includes the division operator (/). Specifically, TB (an int) is being divided by AB (a float). This brings us to the output, which has slg_pct equal to 0.502, plus another 13 digits. Those extra digits are difficult to read, so let’s round it down with a built-in Python function called: round(). "
   ]
  },
  {
   "cell_type": "code",
   "execution_count": 8,
   "id": "residential-congress",
   "metadata": {},
   "outputs": [
    {
     "name": "stdout",
     "output_type": "stream",
     "text": [
      "round_slg_pct: 0.502\n"
     ]
    }
   ],
   "source": [
    "slg_pct = 0.5024875621890548\n",
    "round_slg_pct = round(slg_pct, 3)\n",
    "print ('round_slg_pct:',round_slg_pct)"
   ]
  },
  {
   "cell_type": "markdown",
   "id": "informative-requirement",
   "metadata": {},
   "source": [
    "Much better! The round() function takes two arguments: first, the variable or number to be rounded, second, the number of places from the decimal point. In this case, round_slg_pct was rounded 3 places to 0.503. Next, we’ll look at the ERA formula, which includes the multiplication operator, the asterisk symbol (*). "
   ]
  },
  {
   "cell_type": "code",
   "execution_count": 9,
   "id": "identified-mitchell",
   "metadata": {},
   "outputs": [
    {
     "name": "stdout",
     "output_type": "stream",
     "text": [
      "ERA: 3.0\n"
     ]
    }
   ],
   "source": [
    "IP = 180.0\n",
    "ER = 60\n",
    "ERA = (ER * 9.0)/IP\n",
    "print ('ERA:',round(ERA, 2))"
   ]
  },
  {
   "cell_type": "markdown",
   "id": "authorized-bryan",
   "metadata": {},
   "source": [
    "The ERA formula has 9.0 being multiplied by ER (Earned Runs). In the formula itself, (ER * 9.0) is in parentheses, so this term will be calculated first. The product is then divided by IP (Innings Pitched).\n",
    "\n",
    "The result >>ERA: 3.0 is a nice even number, but that raises an interesting question: is the ERA variable a float or an int? Well, one clue is that it has a decimal point followed by a zero. That suggests ERA (the formula, but also the variable) is a float.\n",
    "\n",
    "Coding Tip. In Python, there’s no difference between a variable and a formula. Indeed, there is no set classification in Python for formula. When a formula contains both an int and a float, the formula itself will become a float. In fact, if one of the variables is a float, the formula or variable will always be type float."
   ]
  },
  {
   "cell_type": "code",
   "execution_count": 10,
   "id": "vanilla-albuquerque",
   "metadata": {},
   "outputs": [
    {
     "name": "stdout",
     "output_type": "stream",
     "text": [
      "type(fav_pitcher)  <class 'str'>\n",
      "type(ER)  <class 'int'>\n",
      "type(ERA)  <class 'float'>\n"
     ]
    }
   ],
   "source": [
    "fav_pitcher = ''\n",
    "IP, ER = 180.0, 60\n",
    "ERA = (ER * 9.0)/IP\n",
    "print ('type(fav_pitcher) ', type( fav_pitcher))\n",
    "print ('type(ER) ', type(ER))\n",
    "print ('type(ERA) ', type(ERA))"
   ]
  },
  {
   "cell_type": "markdown",
   "id": "south-pepper",
   "metadata": {},
   "source": [
    "This code shows three different types of variables: str (string), int, and float. The variable fav_player is an empty string, IP is an integer, and ERA is a float. The type function tells us the type or class of the variable in the print statements.\n",
    "\n",
    "Next, we’ll take a look at how a variable of one type can be converted to another type."
   ]
  },
  {
   "cell_type": "code",
   "execution_count": 11,
   "id": "southeast-copying",
   "metadata": {},
   "outputs": [
    {
     "name": "stdout",
     "output_type": "stream",
     "text": [
      "PA: 100  ... PA_as_float: 100.0\n"
     ]
    }
   ],
   "source": [
    "PA = 100\n",
    "PA_as_float = float(PA)\n",
    "print ('PA:',PA,' ... PA_as_float:',PA_as_float)"
   ]
  },
  {
   "cell_type": "markdown",
   "id": "charming-balloon",
   "metadata": {},
   "source": [
    "In the print statement, PA is an integer at 100. The variable PA_as_float is a float at 100.0. Once again, the decimal point and the zero are a clue. Below, we look at how a float can be changed back to an integer. "
   ]
  },
  {
   "cell_type": "code",
   "execution_count": 12,
   "id": "macro-sampling",
   "metadata": {},
   "outputs": [
    {
     "name": "stdout",
     "output_type": "stream",
     "text": [
      "ERA: 4.0  ... ERA_as_int: 4\n"
     ]
    }
   ],
   "source": [
    "ERA = 4.00\n",
    "ERA_as_int = int(ERA)\n",
    "print ('ERA:',ERA,' ... ERA_as_int:',ERA_as_int)"
   ]
  },
  {
   "cell_type": "markdown",
   "id": "elder-gamma",
   "metadata": {},
   "source": [
    "But watch out—making an ERA of 4.99 into int gives you 4, not 5. Don’t believe me? Try it for yourself. \n",
    "\n",
    "Next, we have a number (ER = '80'), that is not, technically speaking, a number; it’s a string. \n"
   ]
  },
  {
   "cell_type": "code",
   "execution_count": 13,
   "id": "finished-ceramic",
   "metadata": {},
   "outputs": [
    {
     "name": "stdout",
     "output_type": "stream",
     "text": [
      "ER: 80  ... type(ER) <class 'str'>\n"
     ]
    }
   ],
   "source": [
    "IP = 200\n",
    "ER = '80'\n",
    "print ('ER:',ER,' ... type(ER)',type(ER))"
   ]
  },
  {
   "cell_type": "markdown",
   "id": "mathematical-series",
   "metadata": {},
   "source": [
    "It’s a little deceiving because when ER prints out, it shows 80, which looks like an int. But by running type(ER), we can see it’s a string. To get the formula to run, we need to use either int() or float(). "
   ]
  },
  {
   "cell_type": "code",
   "execution_count": 14,
   "id": "intellectual-jewelry",
   "metadata": {},
   "outputs": [
    {
     "name": "stdout",
     "output_type": "stream",
     "text": [
      "ERA: 3.6\n"
     ]
    }
   ],
   "source": [
    "IP = 200\n",
    "ER = '80'\n",
    "ERA = (float(ER) * 9.0)/IP\n",
    "print ('ERA:',ERA)"
   ]
  },
  {
   "cell_type": "markdown",
   "id": "linear-default",
   "metadata": {},
   "source": [
    "By the way, a string will only convert into a number when all characters are numbers (0–9), or in the case of a float, when a decimal is present. For instance, these three elements: '$100', '72F', and '~3.14' couldn’t be converted into a float or an int without additional work. See if you can turn those “dirty” strings into floats. "
   ]
  },
  {
   "cell_type": "code",
   "execution_count": 15,
   "id": "emotional-matter",
   "metadata": {},
   "outputs": [
    {
     "name": "stdout",
     "output_type": "stream",
     "text": [
      "split_d: 100.7\n",
      "slice_f: 80.8\n",
      "slice_pi: 3.14159265359\n"
     ]
    }
   ],
   "source": [
    "#'$100', '72F', '~3.14'\n",
    "d = '$100'\n",
    "split_d = d.split('$')[1]\n",
    "print ('split_d:',float( split_d) + 0.7)\n",
    "################ 72F ###################\n",
    "f = '72F'\n",
    "slice_f = f[0:2]\n",
    "print ('slice_f:',float(slice_f) + 8.8)\n",
    "################ ~3.14 ################\n",
    "pi = '~3.14'\n",
    "slice_pi = pi[1:]\n",
    "print ('slice_pi:',float(slice_pi) + 0.00159265359 )"
   ]
  },
  {
   "cell_type": "markdown",
   "id": "satellite-appointment",
   "metadata": {},
   "source": [
    "That about does it for this tutorial on ints and floats. As you get more familiar with Python, you’ll learn when to use ints and when to use floats. As for my own workflow, whenever I’m dealing with a formula, I mostly use floats. But there are many scenarios in Python where floats just won’t work. In fact, we encountered one scenario in the last chapter, where we looked at the index of a character in a string; that index was an int. Similarly, the next chapter on arrays (or lists) will also use a lot of ints. "
   ]
  },
  {
   "cell_type": "code",
   "execution_count": null,
   "id": "entire-differential",
   "metadata": {},
   "outputs": [],
   "source": []
  },
  {
   "cell_type": "code",
   "execution_count": null,
   "id": "naughty-essay",
   "metadata": {},
   "outputs": [],
   "source": []
  },
  {
   "cell_type": "code",
   "execution_count": null,
   "id": "marine-strap",
   "metadata": {},
   "outputs": [],
   "source": []
  }
 ],
 "metadata": {
  "kernelspec": {
   "display_name": "Python 3",
   "language": "python",
   "name": "python3"
  },
  "language_info": {
   "codemirror_mode": {
    "name": "ipython",
    "version": 3
   },
   "file_extension": ".py",
   "mimetype": "text/x-python",
   "name": "python",
   "nbconvert_exporter": "python",
   "pygments_lexer": "ipython3",
   "version": "3.7.10"
  }
 },
 "nbformat": 4,
 "nbformat_minor": 5
}
