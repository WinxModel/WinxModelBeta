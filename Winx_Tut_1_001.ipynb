{
 "cells": [
  {
   "cell_type": "markdown",
   "id": "close-sport",
   "metadata": {},
   "source": [
    "Tutorial #1: Hello World\n",
    "\n",
    "We’re almost ready to code, but there’s one last thing we need to do. ... \n",
    "To run more code or correct errors, click the link “Edit this code” which will take you back to the screen with the edit box containing your code."
   ]
  },
  {
   "cell_type": "code",
   "execution_count": 1,
   "id": "posted-demonstration",
   "metadata": {},
   "outputs": [
    {
     "name": "stdout",
     "output_type": "stream",
     "text": [
      "Hello World\n"
     ]
    }
   ],
   "source": [
    "print('Hello World')"
   ]
  },
  {
   "cell_type": "markdown",
   "id": "failing-championship",
   "metadata": {},
   "source": [
    "If “Hello World” appeared in the output window ... and begin with a fresh slate each time."
   ]
  },
  {
   "cell_type": "code",
   "execution_count": 2,
   "id": "black-merit",
   "metadata": {},
   "outputs": [
    {
     "name": "stdout",
     "output_type": "stream",
     "text": [
      " Hello World 1\n"
     ]
    }
   ],
   "source": [
    "print ( ' Hello World 1' )\n",
    "#  print ('Hello World 2')\n",
    "#Print ('Hello World 3')\n",
    "#print ('Hello World 4)"
   ]
  },
  {
   "cell_type": "markdown",
   "id": "suspended-meeting",
   "metadata": {},
   "source": [
    "Line 1) The top line runs... I’m informed a quotation mark may be missing."
   ]
  },
  {
   "cell_type": "code",
   "execution_count": 18,
   "id": "front-office",
   "metadata": {},
   "outputs": [
    {
     "name": "stdout",
     "output_type": "stream",
     "text": [
      "My favorite pitcher is...fill in the blank\n"
     ]
    }
   ],
   "source": [
    "print (\"My favorite pitcher is...fill in the blank\")"
   ]
  },
  {
   "cell_type": "markdown",
   "id": "associate-career",
   "metadata": {},
   "source": [
    "In this print statement, the string has a pair of double quotes...One exception is the pound sign (#), which denotes a comment. "
   ]
  },
  {
   "cell_type": "code",
   "execution_count": 4,
   "id": "spread-gibson",
   "metadata": {},
   "outputs": [
    {
     "name": "stdout",
     "output_type": "stream",
     "text": [
      "Darren O'Day\n"
     ]
    }
   ],
   "source": [
    "print (\"Darren O'Day\")"
   ]
  },
  {
   "cell_type": "markdown",
   "id": "urban-illustration",
   "metadata": {},
   "source": [
    "In the output window, we see the name of pitcher Darren O’Day...Next, we’ll take a look at string variables. "
   ]
  },
  {
   "cell_type": "code",
   "execution_count": 5,
   "id": "natural-palestinian",
   "metadata": {},
   "outputs": [
    {
     "name": "stdout",
     "output_type": "stream",
     "text": [
      "Baltimore Orioles\n"
     ]
    }
   ],
   "source": [
    "favorite_team = 'Baltimore Orioles'\n",
    "print (favorite_team)"
   ]
  },
  {
   "cell_type": "markdown",
   "id": "accurate-tower",
   "metadata": {},
   "source": [
    "The first line of code is favorite_team (a variable)....variable name (in both lines of code) to fav_team."
   ]
  },
  {
   "cell_type": "code",
   "execution_count": 6,
   "id": "pregnant-sheep",
   "metadata": {},
   "outputs": [
    {
     "name": "stdout",
     "output_type": "stream",
     "text": [
      "fav_team Atlanta Braves\n"
     ]
    }
   ],
   "source": [
    "fav_team = 'Atlanta Braves'\n",
    "print ('fav_team', fav_team )"
   ]
  },
  {
   "cell_type": "markdown",
   "id": "addressed-relation",
   "metadata": {},
   "source": [
    "In the top line, we’ve changed the variable name to fav_team...caused the error and why the program didn’t run."
   ]
  },
  {
   "cell_type": "code",
   "execution_count": 7,
   "id": "educated-positive",
   "metadata": {},
   "outputs": [
    {
     "name": "stdout",
     "output_type": "stream",
     "text": [
      "fav_team Atlanta Braves\n",
      "Fav_team CIN\n"
     ]
    }
   ],
   "source": [
    "fav_team = 'Atlanta Braves'\n",
    "Fav_team = 'CIN'\n",
    "print ('fav_team', fav_team )\n",
    "print ('Fav_team',Fav_team)"
   ]
  },
  {
   "cell_type": "markdown",
   "id": "regional-bulgarian",
   "metadata": {},
   "source": [
    "When naming variables, keep in mind that Python is case-sensitive... Ideally, you’ll want to pick a name that can be tied directly to what the variable is or does."
   ]
  },
  {
   "cell_type": "code",
   "execution_count": 8,
   "id": "active-uncertainty",
   "metadata": {},
   "outputs": [
    {
     "name": "stdout",
     "output_type": "stream",
     "text": [
      "Chicago Cubs\n",
      "city: Chicago ... nickname: Cubs\n"
     ]
    }
   ],
   "source": [
    "city = 'Chicago'\n",
    "nickname = 'Cubs'\n",
    "print (city, nickname)\n",
    "print ('city:', city, '... nickname:', nickname)"
   ]
  },
  {
   "cell_type": "markdown",
   "id": "constitutional-angel",
   "metadata": {},
   "source": [
    "The first and second lines define the variables city as “Chicago”...as a visual separator of the two string-variable pairs. "
   ]
  },
  {
   "cell_type": "code",
   "execution_count": 9,
   "id": "conceptual-warning",
   "metadata": {},
   "outputs": [
    {
     "name": "stdout",
     "output_type": "stream",
     "text": [
      "Marlins Miami\n",
      "MiamiMarlins\n",
      "Miami_Marlins\n"
     ]
    }
   ],
   "source": [
    "favTeam, city = 'Marlins', 'Miami'\n",
    "print (favTeam,city)\n",
    "print (city+favTeam)\n",
    "print (city+'_'+favTeam)"
   ]
  },
  {
   "cell_type": "markdown",
   "id": "thorough-permission",
   "metadata": {},
   "source": [
    "The top line of code shows a more compact way of assigning values to variables...Here’s another way strings can be useful: "
   ]
  },
  {
   "cell_type": "code",
   "execution_count": 10,
   "id": "about-acoustic",
   "metadata": {},
   "outputs": [
    {
     "name": "stdout",
     "output_type": "stream",
     "text": [
      "length of x: 4\n"
     ]
    }
   ],
   "source": [
    "x = 'base'\n",
    "len_x = len(x)\n",
    "print ('length of x:',len_x)"
   ]
  },
  {
   "cell_type": "markdown",
   "id": "closing-validation",
   "metadata": {},
   "source": [
    "The first line defines x as “base”...try putting a plus sign after “base” and adding “ball”. \n"
   ]
  },
  {
   "cell_type": "code",
   "execution_count": 11,
   "id": "transsexual-video",
   "metadata": {},
   "outputs": [
    {
     "name": "stdout",
     "output_type": "stream",
     "text": [
      "x: baseball ... length of x: 8\n"
     ]
    }
   ],
   "source": [
    "x = 'base'+'ball'\n",
    "print ('x:',x,'... length of x:',len(x))"
   ]
  },
  {
   "cell_type": "markdown",
   "id": "experienced-removal",
   "metadata": {},
   "source": [
    "The variable x now equals “baseball”, and the length of characters is 8. "
   ]
  },
  {
   "cell_type": "code",
   "execution_count": 17,
   "id": "dimensional-engineer",
   "metadata": {},
   "outputs": [
    {
     "name": "stdout",
     "output_type": "stream",
     "text": [
      "len(gid): 30\n"
     ]
    }
   ],
   "source": [
    "gid = 'gid_2019_05_16_texmlb_kcamlb_1'\n",
    "print ('len(gid):',len(gid))"
   ]
  },
  {
   "cell_type": "markdown",
   "id": "fourth-choice",
   "metadata": {},
   "source": [
    "This variable gid, which stands for “game ID”...and in this case, gid is 30 characters long. "
   ]
  },
  {
   "cell_type": "code",
   "execution_count": 12,
   "id": "right-bikini",
   "metadata": {},
   "outputs": [
    {
     "name": "stdout",
     "output_type": "stream",
     "text": [
      "get_g: g\n"
     ]
    }
   ],
   "source": [
    "gid = 'gid_2019_05_16_texmlb_kcamlb_1'\n",
    "get_g = gid[0]\n",
    "print ('get_g:',get_g)"
   ]
  },
  {
   "cell_type": "markdown",
   "id": "substantial-delivery",
   "metadata": {},
   "source": [
    "Brackets can be used to access individual characters by index...“tex” (Texas Rangers) and k in “kca” (Kansas City Royals)."
   ]
  },
  {
   "cell_type": "code",
   "execution_count": 13,
   "id": "coordinate-participant",
   "metadata": {},
   "outputs": [
    {
     "name": "stdout",
     "output_type": "stream",
     "text": [
      "get_t: t\n",
      "get_k: k\n"
     ]
    }
   ],
   "source": [
    "gid = 'gid_2019_05_16_texmlb_kcamlb_1'\n",
    "get_t = gid[15]\n",
    "print ('get_t:',get_t)\n",
    "get_k = gid[22]\n",
    "print ('get_k:',get_k)"
   ]
  },
  {
   "cell_type": "markdown",
   "id": "athletic-glasgow",
   "metadata": {},
   "source": [
    "Take a look at this coding shortcut to get the 1 at the end of the gid. By the way, the 1 at the end signifies that the game is not the second game of a doubleheader. If it were, a 2 would be at the end. "
   ]
  },
  {
   "cell_type": "code",
   "execution_count": 14,
   "id": "mysterious-prompt",
   "metadata": {},
   "outputs": [
    {
     "name": "stdout",
     "output_type": "stream",
     "text": [
      "get_doubleheader: 1\n"
     ]
    }
   ],
   "source": [
    "gid = 'gid_2019_05_16_texmlb_kcamlb_1'\n",
    "get_doubleheader = gid[len(gid)-1]\n",
    "print ('get_doubleheader:',get_doubleheader)"
   ]
  },
  {
   "cell_type": "markdown",
   "id": "assisted-admission",
   "metadata": {},
   "source": [
    "On the second line, to the right of the equal sign....will also have a length of 30."
   ]
  },
  {
   "cell_type": "code",
   "execution_count": 15,
   "id": "central-station",
   "metadata": {},
   "outputs": [
    {
     "name": "stdout",
     "output_type": "stream",
     "text": [
      "gid_year: 2019\n",
      "gid_away_team: tex\n"
     ]
    }
   ],
   "source": [
    "gid = 'gid_2019_05_16_texmlb_kcamlb_1'\n",
    "gid_year = gid[4:8]\n",
    "print ('gid_year:',gid_year)\n",
    "gid_away_team = gid[15:18]\n",
    "print ('gid_away_team:',gid_away_team)"
   ]
  },
  {
   "cell_type": "markdown",
   "id": "level-scroll",
   "metadata": {},
   "source": [
    "To slice a string, place a colon in between two index numbers...which will split a string (gid) into an array."
   ]
  },
  {
   "cell_type": "code",
   "execution_count": 16,
   "id": "informative-company",
   "metadata": {},
   "outputs": [
    {
     "name": "stdout",
     "output_type": "stream",
     "text": [
      "split_gid: ['gid', '2019', '05', '16', 'texmlb', 'kcamlb', '1']\n"
     ]
    }
   ],
   "source": [
    "gid = 'gid_2019_05_16_texmlb_kcamlb_1'\n",
    "split_gid = gid.split('_')\n",
    "print ('split_gid:',split_gid)"
   ]
  },
  {
   "cell_type": "markdown",
   "id": "scenic-ebony",
   "metadata": {},
   "source": [
    "The second line reads...Specifically, we’ll look at two different classes of variables: integers and floating points (or “floats”)."
   ]
  },
  {
   "cell_type": "code",
   "execution_count": null,
   "id": "numerical-somalia",
   "metadata": {},
   "outputs": [],
   "source": []
  },
  {
   "cell_type": "code",
   "execution_count": null,
   "id": "accredited-seven",
   "metadata": {},
   "outputs": [],
   "source": []
  },
  {
   "cell_type": "code",
   "execution_count": null,
   "id": "monetary-meeting",
   "metadata": {},
   "outputs": [],
   "source": []
  }
 ],
 "metadata": {
  "kernelspec": {
   "display_name": "Python 3",
   "language": "python",
   "name": "python3"
  },
  "language_info": {
   "codemirror_mode": {
    "name": "ipython",
    "version": 3
   },
   "file_extension": ".py",
   "mimetype": "text/x-python",
   "name": "python",
   "nbconvert_exporter": "python",
   "pygments_lexer": "ipython3",
   "version": "3.7.10"
  }
 },
 "nbformat": 4,
 "nbformat_minor": 5
}
